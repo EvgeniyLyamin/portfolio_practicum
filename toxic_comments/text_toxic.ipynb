{
  "cells": [
    {
      "cell_type": "markdown",
      "metadata": {
        "id": "mVrw-p-2UQUD"
      },
      "source": [
        "<p align=\"center\"><font size=\"18\">Проект для «Викишоп»</font></p>"
      ]
    },
    {
      "cell_type": "markdown",
      "metadata": {
        "id": "HlWIdC6VXtPX"
      },
      "source": [
        "# Описание проекта\n",
        "Интернет-магазин «Викишоп» запускает новый сервис.\n",
        "Пользователи смогут редактировать и дополнять описания товаров. То есть клиенты предлагают свои правки и комментируют изменения других. Магазину нужен инструмент, который будет искать токсичные комментарии и отправлять их на модерацию.\n",
        "\n",
        "Наша задача:<br>\n",
        "Обучить модель классифицировать комментарии на позитивные и негативные, со значением метрики качества F1 не меньше 0.75. В нашем распоряжении набор данных с разметкой о токсичности правок.\n",
        "\n",
        "В данных: столбец 'text' содержит текст комментария, а 'toxic' — целевой признак."
      ]
    },
    {
      "cell_type": "markdown",
      "metadata": {
        "id": "dC_WGKCQZkbi"
      },
      "source": [
        "***"
      ]
    },
    {
      "cell_type": "code",
      "execution_count": 6,
      "metadata": {
        "id": "JJB9qFuC1lqe",
        "colab": {
          "base_uri": "https://localhost:8080/"
        },
        "outputId": "ecbf794a-625a-40b8-8d92-47e712dd0b04"
      },
      "outputs": [
        {
          "output_type": "stream",
          "name": "stdout",
          "text": [
            "Requirement already satisfied: imbalanced-learn in /usr/local/lib/python3.10/dist-packages (0.11.0)\n",
            "Requirement already satisfied: numpy>=1.17.3 in /usr/local/lib/python3.10/dist-packages (from imbalanced-learn) (1.22.4)\n",
            "Requirement already satisfied: scipy>=1.5.0 in /usr/local/lib/python3.10/dist-packages (from imbalanced-learn) (1.10.1)\n",
            "Requirement already satisfied: scikit-learn>=1.0.2 in /usr/local/lib/python3.10/dist-packages (from imbalanced-learn) (1.2.2)\n",
            "Requirement already satisfied: joblib>=1.1.1 in /usr/local/lib/python3.10/dist-packages (from imbalanced-learn) (1.3.1)\n",
            "Requirement already satisfied: threadpoolctl>=2.0.0 in /usr/local/lib/python3.10/dist-packages (from imbalanced-learn) (3.1.0)\n"
          ]
        }
      ],
      "source": [
        "# установка библиотек\n",
        "!pip install -U imbalanced-learn"
      ]
    },
    {
      "cell_type": "code",
      "execution_count": 7,
      "metadata": {
        "id": "XrdR7F8CZpV0"
      },
      "outputs": [],
      "source": [
        "# импорт библиотек\n",
        "import numpy as np\n",
        "import pandas as pd\n",
        "import matplotlib.pyplot as plt\n",
        "import seaborn as sns\n",
        "import spacy\n",
        "import re\n",
        "\n",
        "from tqdm import notebook\n",
        "\n",
        "from imblearn.under_sampling import RandomUnderSampler\n",
        "from imblearn.pipeline import Pipeline, make_pipeline\n",
        "\n",
        "import nltk\n",
        "from nltk.corpus import stopwords as nltk_stopwords\n",
        "\n",
        "from sklearn.feature_extraction.text import TfidfVectorizer\n",
        "from sklearn.decomposition import TruncatedSVD\n",
        "from sklearn.linear_model import LogisticRegression\n",
        "from sklearn.model_selection import train_test_split, cross_val_score, GridSearchCV\n",
        "from sklearn.metrics import f1_score\n",
        "\n",
        "from lightgbm import LGBMClassifier"
      ]
    },
    {
      "cell_type": "markdown",
      "metadata": {
        "id": "jlznq-yTZm9n"
      },
      "source": [
        "***"
      ]
    },
    {
      "cell_type": "markdown",
      "metadata": {
        "id": "T8ZVExtKZziF"
      },
      "source": [
        "# Подготовка данных"
      ]
    },
    {
      "cell_type": "code",
      "source": [
        "# монтирование Google Drive\n",
        "from google.colab import drive\n",
        "drive.mount('/content/drive')\n",
        "!ls 'drive/My Drive/git_projects/2_classification_comments'"
      ],
      "metadata": {
        "colab": {
          "base_uri": "https://localhost:8080/"
        },
        "id": "omR2W3cI4ZPB",
        "outputId": "dd8b2768-5195-4a92-dd17-1fbc0b377ee4"
      },
      "execution_count": 8,
      "outputs": [
        {
          "output_type": "stream",
          "name": "stdout",
          "text": [
            "Drive already mounted at /content/drive; to attempt to forcibly remount, call drive.mount(\"/content/drive\", force_remount=True).\n",
            "text_toxic.ipynb  toxic_comments.csv\n"
          ]
        }
      ]
    },
    {
      "cell_type": "code",
      "execution_count": 9,
      "metadata": {
        "id": "YwWwaYvwUPXE"
      },
      "outputs": [],
      "source": [
        "# загрузка данных\n",
        "df = pd.read_csv('drive/My Drive/git_projects/2_classification_comments/toxic_comments.csv')"
      ]
    },
    {
      "cell_type": "code",
      "execution_count": 10,
      "metadata": {
        "colab": {
          "base_uri": "https://localhost:8080/",
          "height": 143
        },
        "id": "mye1qVKxagde",
        "outputId": "f47bb958-4c54-4159-ac81-742e8fb109c5"
      },
      "outputs": [
        {
          "output_type": "execute_result",
          "data": {
            "text/plain": [
              "   Unnamed: 0                                               text  toxic\n",
              "0           0  Explanation\\nWhy the edits made under my usern...      0\n",
              "1           1  D'aww! He matches this background colour I'm s...      0\n",
              "2           2  Hey man, I'm really not trying to edit war. It...      0"
            ],
            "text/html": [
              "\n",
              "\n",
              "  <div id=\"df-c2e92f6c-2db9-47bf-b113-c59e2604c9fb\">\n",
              "    <div class=\"colab-df-container\">\n",
              "      <div>\n",
              "<style scoped>\n",
              "    .dataframe tbody tr th:only-of-type {\n",
              "        vertical-align: middle;\n",
              "    }\n",
              "\n",
              "    .dataframe tbody tr th {\n",
              "        vertical-align: top;\n",
              "    }\n",
              "\n",
              "    .dataframe thead th {\n",
              "        text-align: right;\n",
              "    }\n",
              "</style>\n",
              "<table border=\"1\" class=\"dataframe\">\n",
              "  <thead>\n",
              "    <tr style=\"text-align: right;\">\n",
              "      <th></th>\n",
              "      <th>Unnamed: 0</th>\n",
              "      <th>text</th>\n",
              "      <th>toxic</th>\n",
              "    </tr>\n",
              "  </thead>\n",
              "  <tbody>\n",
              "    <tr>\n",
              "      <th>0</th>\n",
              "      <td>0</td>\n",
              "      <td>Explanation\\nWhy the edits made under my usern...</td>\n",
              "      <td>0</td>\n",
              "    </tr>\n",
              "    <tr>\n",
              "      <th>1</th>\n",
              "      <td>1</td>\n",
              "      <td>D'aww! He matches this background colour I'm s...</td>\n",
              "      <td>0</td>\n",
              "    </tr>\n",
              "    <tr>\n",
              "      <th>2</th>\n",
              "      <td>2</td>\n",
              "      <td>Hey man, I'm really not trying to edit war. It...</td>\n",
              "      <td>0</td>\n",
              "    </tr>\n",
              "  </tbody>\n",
              "</table>\n",
              "</div>\n",
              "      <button class=\"colab-df-convert\" onclick=\"convertToInteractive('df-c2e92f6c-2db9-47bf-b113-c59e2604c9fb')\"\n",
              "              title=\"Convert this dataframe to an interactive table.\"\n",
              "              style=\"display:none;\">\n",
              "\n",
              "  <svg xmlns=\"http://www.w3.org/2000/svg\" height=\"24px\"viewBox=\"0 0 24 24\"\n",
              "       width=\"24px\">\n",
              "    <path d=\"M0 0h24v24H0V0z\" fill=\"none\"/>\n",
              "    <path d=\"M18.56 5.44l.94 2.06.94-2.06 2.06-.94-2.06-.94-.94-2.06-.94 2.06-2.06.94zm-11 1L8.5 8.5l.94-2.06 2.06-.94-2.06-.94L8.5 2.5l-.94 2.06-2.06.94zm10 10l.94 2.06.94-2.06 2.06-.94-2.06-.94-.94-2.06-.94 2.06-2.06.94z\"/><path d=\"M17.41 7.96l-1.37-1.37c-.4-.4-.92-.59-1.43-.59-.52 0-1.04.2-1.43.59L10.3 9.45l-7.72 7.72c-.78.78-.78 2.05 0 2.83L4 21.41c.39.39.9.59 1.41.59.51 0 1.02-.2 1.41-.59l7.78-7.78 2.81-2.81c.8-.78.8-2.07 0-2.86zM5.41 20L4 18.59l7.72-7.72 1.47 1.35L5.41 20z\"/>\n",
              "  </svg>\n",
              "      </button>\n",
              "\n",
              "\n",
              "\n",
              "    <div id=\"df-5b40ea1a-e644-4439-a9aa-84507063981f\">\n",
              "      <button class=\"colab-df-quickchart\" onclick=\"quickchart('df-5b40ea1a-e644-4439-a9aa-84507063981f')\"\n",
              "              title=\"Suggest charts.\"\n",
              "              style=\"display:none;\">\n",
              "\n",
              "<svg xmlns=\"http://www.w3.org/2000/svg\" height=\"24px\"viewBox=\"0 0 24 24\"\n",
              "     width=\"24px\">\n",
              "    <g>\n",
              "        <path d=\"M19 3H5c-1.1 0-2 .9-2 2v14c0 1.1.9 2 2 2h14c1.1 0 2-.9 2-2V5c0-1.1-.9-2-2-2zM9 17H7v-7h2v7zm4 0h-2V7h2v10zm4 0h-2v-4h2v4z\"/>\n",
              "    </g>\n",
              "</svg>\n",
              "      </button>\n",
              "    </div>\n",
              "\n",
              "<style>\n",
              "  .colab-df-quickchart {\n",
              "    background-color: #E8F0FE;\n",
              "    border: none;\n",
              "    border-radius: 50%;\n",
              "    cursor: pointer;\n",
              "    display: none;\n",
              "    fill: #1967D2;\n",
              "    height: 32px;\n",
              "    padding: 0 0 0 0;\n",
              "    width: 32px;\n",
              "  }\n",
              "\n",
              "  .colab-df-quickchart:hover {\n",
              "    background-color: #E2EBFA;\n",
              "    box-shadow: 0px 1px 2px rgba(60, 64, 67, 0.3), 0px 1px 3px 1px rgba(60, 64, 67, 0.15);\n",
              "    fill: #174EA6;\n",
              "  }\n",
              "\n",
              "  [theme=dark] .colab-df-quickchart {\n",
              "    background-color: #3B4455;\n",
              "    fill: #D2E3FC;\n",
              "  }\n",
              "\n",
              "  [theme=dark] .colab-df-quickchart:hover {\n",
              "    background-color: #434B5C;\n",
              "    box-shadow: 0px 1px 3px 1px rgba(0, 0, 0, 0.15);\n",
              "    filter: drop-shadow(0px 1px 2px rgba(0, 0, 0, 0.3));\n",
              "    fill: #FFFFFF;\n",
              "  }\n",
              "</style>\n",
              "\n",
              "    <script>\n",
              "      async function quickchart(key) {\n",
              "        const containerElement = document.querySelector('#' + key);\n",
              "        const charts = await google.colab.kernel.invokeFunction(\n",
              "            'suggestCharts', [key], {});\n",
              "      }\n",
              "    </script>\n",
              "\n",
              "      <script>\n",
              "\n",
              "function displayQuickchartButton(domScope) {\n",
              "  let quickchartButtonEl =\n",
              "    domScope.querySelector('#df-5b40ea1a-e644-4439-a9aa-84507063981f button.colab-df-quickchart');\n",
              "  quickchartButtonEl.style.display =\n",
              "    google.colab.kernel.accessAllowed ? 'block' : 'none';\n",
              "}\n",
              "\n",
              "        displayQuickchartButton(document);\n",
              "      </script>\n",
              "      <style>\n",
              "    .colab-df-container {\n",
              "      display:flex;\n",
              "      flex-wrap:wrap;\n",
              "      gap: 12px;\n",
              "    }\n",
              "\n",
              "    .colab-df-convert {\n",
              "      background-color: #E8F0FE;\n",
              "      border: none;\n",
              "      border-radius: 50%;\n",
              "      cursor: pointer;\n",
              "      display: none;\n",
              "      fill: #1967D2;\n",
              "      height: 32px;\n",
              "      padding: 0 0 0 0;\n",
              "      width: 32px;\n",
              "    }\n",
              "\n",
              "    .colab-df-convert:hover {\n",
              "      background-color: #E2EBFA;\n",
              "      box-shadow: 0px 1px 2px rgba(60, 64, 67, 0.3), 0px 1px 3px 1px rgba(60, 64, 67, 0.15);\n",
              "      fill: #174EA6;\n",
              "    }\n",
              "\n",
              "    [theme=dark] .colab-df-convert {\n",
              "      background-color: #3B4455;\n",
              "      fill: #D2E3FC;\n",
              "    }\n",
              "\n",
              "    [theme=dark] .colab-df-convert:hover {\n",
              "      background-color: #434B5C;\n",
              "      box-shadow: 0px 1px 3px 1px rgba(0, 0, 0, 0.15);\n",
              "      filter: drop-shadow(0px 1px 2px rgba(0, 0, 0, 0.3));\n",
              "      fill: #FFFFFF;\n",
              "    }\n",
              "  </style>\n",
              "\n",
              "      <script>\n",
              "        const buttonEl =\n",
              "          document.querySelector('#df-c2e92f6c-2db9-47bf-b113-c59e2604c9fb button.colab-df-convert');\n",
              "        buttonEl.style.display =\n",
              "          google.colab.kernel.accessAllowed ? 'block' : 'none';\n",
              "\n",
              "        async function convertToInteractive(key) {\n",
              "          const element = document.querySelector('#df-c2e92f6c-2db9-47bf-b113-c59e2604c9fb');\n",
              "          const dataTable =\n",
              "            await google.colab.kernel.invokeFunction('convertToInteractive',\n",
              "                                                     [key], {});\n",
              "          if (!dataTable) return;\n",
              "\n",
              "          const docLinkHtml = 'Like what you see? Visit the ' +\n",
              "            '<a target=\"_blank\" href=https://colab.research.google.com/notebooks/data_table.ipynb>data table notebook</a>'\n",
              "            + ' to learn more about interactive tables.';\n",
              "          element.innerHTML = '';\n",
              "          dataTable['output_type'] = 'display_data';\n",
              "          await google.colab.output.renderOutput(dataTable, element);\n",
              "          const docLink = document.createElement('div');\n",
              "          docLink.innerHTML = docLinkHtml;\n",
              "          element.appendChild(docLink);\n",
              "        }\n",
              "      </script>\n",
              "    </div>\n",
              "  </div>\n"
            ]
          },
          "metadata": {},
          "execution_count": 10
        }
      ],
      "source": [
        "# первые три стороки\n",
        "df.head(3)"
      ]
    },
    {
      "cell_type": "code",
      "execution_count": 11,
      "metadata": {
        "id": "C12X_kzeIdEd"
      },
      "outputs": [],
      "source": [
        "# удалим 'Unnamed: 0'\n",
        "df = df.drop(columns='Unnamed: 0')"
      ]
    },
    {
      "cell_type": "code",
      "execution_count": 12,
      "metadata": {
        "colab": {
          "base_uri": "https://localhost:8080/"
        },
        "id": "x_ZMkEsoao6F",
        "outputId": "816f8c55-12ec-40dc-f485-dd0ccaefb62a"
      },
      "outputs": [
        {
          "output_type": "stream",
          "name": "stdout",
          "text": [
            "<class 'pandas.core.frame.DataFrame'>\n",
            "RangeIndex: 159292 entries, 0 to 159291\n",
            "Data columns (total 2 columns):\n",
            " #   Column  Non-Null Count   Dtype \n",
            "---  ------  --------------   ----- \n",
            " 0   text    159292 non-null  object\n",
            " 1   toxic   159292 non-null  int64 \n",
            "dtypes: int64(1), object(1)\n",
            "memory usage: 2.4+ MB\n"
          ]
        }
      ],
      "source": [
        "# информация о датасете\n",
        "df.info()"
      ]
    },
    {
      "cell_type": "code",
      "execution_count": 13,
      "metadata": {
        "colab": {
          "base_uri": "https://localhost:8080/"
        },
        "id": "XtYjBYywIOyE",
        "outputId": "ff7c19e1-5c18-4f83-d1a8-605d9543b022"
      },
      "outputs": [
        {
          "output_type": "execute_result",
          "data": {
            "text/plain": [
              "0"
            ]
          },
          "metadata": {},
          "execution_count": 13
        }
      ],
      "source": [
        "# дубликаты\n",
        "df.duplicated().sum()"
      ]
    },
    {
      "cell_type": "code",
      "execution_count": 14,
      "metadata": {
        "colab": {
          "base_uri": "https://localhost:8080/",
          "height": 430
        },
        "id": "5VsEo668gvzj",
        "outputId": "9a6cb9aa-059a-4c88-c7e1-f8b94e061caf"
      },
      "outputs": [
        {
          "output_type": "display_data",
          "data": {
            "text/plain": [
              "<Figure size 640x480 with 1 Axes>"
            ],
            "image/png": "[encoded data removed]"
          },
          "metadata": {}
        }
      ],
      "source": [
        "# баланс классов\n",
        "plt.grid(True)\n",
        "plt.hist(df.toxic, density=True)\n",
        "plt.show()"
      ]
    },
    {
      "cell_type": "markdown",
      "metadata": {
        "id": "uhs2bWBULZk1"
      },
      "source": [
        "Оставим в тексте только символы латиницы и пробелы, цифры и знаки препинания не несут информацию о \"токсичности\". Слова приведем в нижний регистр, так одни и те же слова с заглавной и прописной буквы не будут восприниматься как разные."
      ]
    },
    {
      "cell_type": "code",
      "execution_count": 15,
      "metadata": {
        "id": "O1v_mhvwwnJb"
      },
      "outputs": [],
      "source": [
        "# оставим в тексте только символы латиницы и пробелы\n",
        "# слова преведем в нижний регистр\n",
        "df['text'] = df['text'].apply(lambda x: \" \".join(re.sub(r'[^a-zA-Z ]', ' ', x.lower()).split()))"
      ]
    },
    {
      "cell_type": "code",
      "execution_count": 16,
      "metadata": {
        "id": "vmGSX4Dz9p2P"
      },
      "outputs": [],
      "source": [
        "# corpus\n",
        "corpus = df['text'].values"
      ]
    },
    {
      "cell_type": "code",
      "execution_count": 17,
      "metadata": {
        "colab": {
          "base_uri": "https://localhost:8080/",
          "height": 49,
          "referenced_widgets": [
            "7a7fde3491a742489de67b3122d2f2de",
            "64521f3a941449caaff0ef749ec991bf",
            "56a0390cf0964814af065e603ce770c6",
            "1afde148646e44d185ebb11707bd7d07",
            "a2d624994c6f4c54bc1c3377bf3bf4fd",
            "53be8078ff6f4d02b489ee380d1ae935",
            "9a77b221e48b419d913f8b11eec4bad5",
            "2ac959fa710b4213be903404290b0d53",
            "0891c9105d9e4dfb84ae5b4fc475385f",
            "450e9cbf0a4a4b1dbb625880918864e8",
            "0f17ab2ce2b24de68abe5d0e63da7c59"
          ]
        },
        "id": "unZWLcktuOtn",
        "outputId": "3fe355c6-8aef-483d-dfac-038b65ea8908"
      },
      "outputs": [
        {
          "output_type": "display_data",
          "data": {
            "text/plain": [
              "  0%|          | 0/159292 [00:00<?, ?it/s]"
            ],
            "application/vnd.jupyter.widget-view+json": {
              "version_major": 2,
              "version_minor": 0,
              "model_id": "7a7fde3491a742489de67b3122d2f2de"
            }
          },
          "metadata": {}
        }
      ],
      "source": [
        "# лемматизация\n",
        "nlp = spacy.load('en_core_web_sm', disable=['parser', 'ner'])\n",
        "corpus_lemm = []\n",
        "for text in notebook.tqdm(corpus):\n",
        "    text_lemm = \" \".join([token.lemma_ for token in nlp(text)])\n",
        "    corpus_lemm.append(text_lemm)"
      ]
    },
    {
      "cell_type": "code",
      "execution_count": 18,
      "metadata": {
        "id": "Wvvn3gqAN3Hv"
      },
      "outputs": [],
      "source": [
        "# corpus_lemm в массив\n",
        "corpus_lemm = np.array(corpus_lemm)"
      ]
    },
    {
      "cell_type": "code",
      "execution_count": 19,
      "metadata": {
        "id": "otXp-bBcg7NC"
      },
      "outputs": [],
      "source": [
        "# выборки тестовая и обучающая\n",
        "X_train, X_test, y_train, y_test = train_test_split(\n",
        "    corpus_lemm, df['toxic'], test_size=.1, random_state=22)"
      ]
    },
    {
      "cell_type": "code",
      "execution_count": 20,
      "metadata": {
        "colab": {
          "base_uri": "https://localhost:8080/"
        },
        "id": "iaac5wZPJt3v",
        "outputId": "62133a76-627a-43bd-f5f6-8fc65940f5c6"
      },
      "outputs": [
        {
          "output_type": "stream",
          "name": "stderr",
          "text": [
            "[nltk_data] Downloading package stopwords to /root/nltk_data...\n",
            "[nltk_data]   Unzipping corpora/stopwords.zip.\n"
          ]
        },
        {
          "output_type": "execute_result",
          "data": {
            "text/plain": [
              "((143362, 12702), (15930, 12702))"
            ]
          },
          "metadata": {},
          "execution_count": 20
        }
      ],
      "source": [
        "# stopwords\n",
        "# tf_idf\n",
        "nltk.download('stopwords')\n",
        "stopwords = set(nltk_stopwords.words('english'))\n",
        "count_tf_idf = TfidfVectorizer(max_df=.7, min_df=.0001, stop_words=list(stopwords))\n",
        "X_train = count_tf_idf.fit_transform(X_train)\n",
        "X_test = count_tf_idf.transform(X_test)\n",
        "\n",
        "X_train.shape, X_test.shape"
      ]
    },
    {
      "cell_type": "code",
      "execution_count": 21,
      "metadata": {
        "colab": {
          "base_uri": "https://localhost:8080/",
          "height": 430
        },
        "id": "8OtY8a5mNKkc",
        "outputId": "219c47d2-9fd2-4fed-e282-4c0894873fa2"
      },
      "outputs": [
        {
          "output_type": "display_data",
          "data": {
            "text/plain": [
              "<Figure size 640x480 with 1 Axes>"
            ],
            "image/png": "[encoded data removed]"
          },
          "metadata": {}
        }
      ],
      "source": [
        "# баланс классов 'y_test'\n",
        "plt.grid(True)\n",
        "plt.hist(y_test, density=True)\n",
        "plt.show()"
      ]
    },
    {
      "cell_type": "markdown",
      "metadata": {
        "id": "bHQjU28mkPFk"
      },
      "source": [
        "## Заключение\n",
        "В наших даных:\n",
        "- 159_292 текста\n",
        "- дубликатов не обнаружено\n",
        "- обнаружен дисбаланс классов в целевом признаке 'toxik', соотношение 9/1, уменьшали дисбаланс с RandomUnderSampler\n",
        "- провели предобработку текста:\n",
        "    - оставим в тексте только символы латиницы и пробелы, слова привели в нижний регистр\n",
        "    - провели лемматизация с помощью библиотеки spacy\n",
        "    - удалили стоп-слова\n",
        "    - вычислили tf_idf\n",
        "    - подготовили выборки для подбора моделей"
      ]
    },
    {
      "cell_type": "markdown",
      "metadata": {
        "id": "VpNl7-Wa0YUz"
      },
      "source": [
        "---"
      ]
    },
    {
      "cell_type": "markdown",
      "metadata": {
        "id": "vbloC3CO1fHY"
      },
      "source": [
        "# Модели"
      ]
    },
    {
      "cell_type": "markdown",
      "metadata": {
        "id": "Aeq6sQQtOdNR"
      },
      "source": [
        "## LogisticRegression"
      ]
    },
    {
      "cell_type": "code",
      "execution_count": 22,
      "metadata": {
        "id": "o4N5v1YT5ERD"
      },
      "outputs": [],
      "source": [
        "# RandomUnderSampler\n",
        "rus = RandomUnderSampler(sampling_strategy=0.4, random_state=22)"
      ]
    },
    {
      "cell_type": "code",
      "execution_count": 23,
      "metadata": {
        "id": "ErvBxPDJ5sOK",
        "colab": {
          "base_uri": "https://localhost:8080/"
        },
        "outputId": "fa051564-e476-44ec-93c2-e4c8d2b8f5a3"
      },
      "outputs": [
        {
          "output_type": "stream",
          "name": "stdout",
          "text": [
            "[0.77171434 0.77536615 0.77896208 0.77580702 0.78201058]\n",
            "0.7767720358764053\n"
          ]
        }
      ],
      "source": [
        "# логистическая регрессия c RandomUnderSampler.\n",
        "lr = LogisticRegression()\n",
        "\n",
        "imba_pipeline = make_pipeline(rus, lr)\n",
        "scores = cross_val_score(imba_pipeline, X_train, y_train, scoring='f1', cv=5)\n",
        "\n",
        "print(scores)\n",
        "print(scores.mean())"
      ]
    },
    {
      "cell_type": "markdown",
      "metadata": {
        "id": "V55JKGIQOYeV"
      },
      "source": [
        "## LGBMClassifier"
      ]
    },
    {
      "cell_type": "code",
      "execution_count": 24,
      "metadata": {
        "id": "A0eMo07Tx2Zj",
        "colab": {
          "base_uri": "https://localhost:8080/"
        },
        "outputId": "d3d83471-0a23-43c3-8053-3711cbbbd923"
      },
      "outputs": [
        {
          "output_type": "stream",
          "name": "stdout",
          "text": [
            "Лучший результат:\n",
            "гиперпараметры:  {'lgbmclassifier__learning_rate': 0.1, 'lgbmclassifier__max_depth': 11, 'lgbmclassifier__n_estimators': 200, 'lgbmclassifier__num_leaves': 30}\n",
            "F1:  0.7722397831042516\n",
            "CPU times: user 45.6 s, sys: 1.44 s, total: 47 s\n",
            "Wall time: 9min 43s\n"
          ]
        }
      ],
      "source": [
        "%%time\n",
        "# cоздадим, обучим и подберем параметры для LGBMClassifier\n",
        "lgbc = LGBMClassifier(random_state=22)\n",
        "imba_pipeline = make_pipeline(rus, lgbc)\n",
        "\n",
        "parametrs = {\n",
        "    'learning_rate': [0.1],\n",
        "    'n_estimators': [50, 100, 150, 200],\n",
        "    'max_depth': [5, 7, 9, 11],\n",
        "    'num_leaves': [30]\n",
        "    }\n",
        "\n",
        "params = {'lgbmclassifier__' + key: parametrs[key] for key in parametrs}\n",
        "\n",
        "grid = GridSearchCV(\n",
        "    imba_pipeline,\n",
        "    param_grid=params,\n",
        "    cv=3,\n",
        "    scoring='f1',\n",
        "    n_jobs=-1\n",
        "    )\n",
        "\n",
        "grid.fit(X_train, y_train)\n",
        "\n",
        "\n",
        "print('Лучший результат:')\n",
        "print('гиперпараметры: ', grid.best_params_)\n",
        "print('F1: ', grid.best_score_)"
      ]
    },
    {
      "cell_type": "code",
      "execution_count": 25,
      "metadata": {
        "colab": {
          "base_uri": "https://localhost:8080/",
          "height": 530
        },
        "id": "MjD-vsPJx2VX",
        "outputId": "fec749f2-604d-484b-eb39-c41b47446724"
      },
      "outputs": [
        {
          "output_type": "display_data",
          "data": {
            "text/plain": [
              "<Figure size 1800x600 with 2 Axes>"
            ],
            "image/png": "[encoded data removed]"
          },
          "metadata": {}
        }
      ],
      "source": [
        "# построим графики\n",
        "# зависимость 'mean_test_score' от 'param_max_depth'\n",
        "# зависимость 'mean_test_score' от 'param_n_estimators'\n",
        "\n",
        "grid_res = pd.DataFrame(grid.cv_results_)\n",
        "\n",
        "fig, ax = plt.subplots(1,2)\n",
        "sns.lineplot(data=grid_res.groupby(\n",
        "    'param_lgbmclassifier__max_depth')['mean_test_score'].mean(), ax=ax[0])\n",
        "\n",
        "sns.lineplot(data=grid_res.groupby(\n",
        "    'param_lgbmclassifier__n_estimators')['mean_test_score'].mean(), ax=ax[1])\n",
        "\n",
        "ax[0].grid()\n",
        "ax[1].grid()\n",
        "fig.set_figheight(6)\n",
        "fig.set_figwidth(18)\n",
        "fig.show()"
      ]
    },
    {
      "cell_type": "markdown",
      "metadata": {
        "id": "2u_qHb5jknuR"
      },
      "source": [
        "## Зключение\n",
        "Исследовали две модели с разными алгоритмами предсказания LogisticRegression и LGBMClassifier, подбирали гиперпараметры.<br> Результаты на валидации F1:<br> LogisticRegression - 0.819<br> LGBMClassifier - 0.817\n",
        "\n",
        "Метрики практически одинаковы, но LogisticRegression значительно быстрее работает и менее ресурсозатратна, выведем ее на тест."
      ]
    },
    {
      "cell_type": "markdown",
      "metadata": {
        "id": "OtjLGFWvldnY"
      },
      "source": [
        "---"
      ]
    },
    {
      "cell_type": "markdown",
      "metadata": {
        "id": "sFs70WO-k0Mf"
      },
      "source": [
        "# Тест"
      ]
    },
    {
      "cell_type": "code",
      "execution_count": 26,
      "metadata": {
        "id": "6HJp999WCXhz"
      },
      "outputs": [],
      "source": [
        "# RandomUnderSampler\n",
        "X_train_down, y_train_down = rus.fit_resample(X_train, y_train)"
      ]
    },
    {
      "cell_type": "code",
      "execution_count": 27,
      "metadata": {
        "colab": {
          "base_uri": "https://localhost:8080/"
        },
        "id": "IQk3GmKA-OBp",
        "outputId": "2840ae16-82d2-4216-9417-04efcae6aa0d"
      },
      "outputs": [
        {
          "output_type": "execute_result",
          "data": {
            "text/plain": [
              "0.7751314568512219"
            ]
          },
          "metadata": {},
          "execution_count": 27
        }
      ],
      "source": [
        "# тест LogisticRegression\n",
        "lr.fit(X_train_down, y_train_down)\n",
        "pred = lr.predict(X_test)\n",
        "f1_score(y_test, pred)"
      ]
    },
    {
      "cell_type": "code",
      "execution_count": 28,
      "metadata": {
        "colab": {
          "base_uri": "https://localhost:8080/"
        },
        "id": "MOkA4rarQG7m",
        "outputId": "1fbcd05b-8bc3-407e-ec3b-5f2b924345d8"
      },
      "outputs": [
        {
          "output_type": "execute_result",
          "data": {
            "text/plain": [
              "0.18637217510104173"
            ]
          },
          "metadata": {},
          "execution_count": 28
        }
      ],
      "source": [
        "# адекватность модели\n",
        "pred_random = pd.Series(\n",
        "    np.ones((len(y_test))),\n",
        "    index=y_test.index)\n",
        "\n",
        "f1_score(y_test, pred_random)"
      ]
    },
    {
      "cell_type": "markdown",
      "metadata": {
        "id": "wy7yg-UZlaJ2"
      },
      "source": [
        "---"
      ]
    },
    {
      "cell_type": "markdown",
      "metadata": {
        "id": "tw51TZ-nnLgl"
      },
      "source": [
        "# Итоги\n",
        "В ходе  нашей работы мы:\n",
        "1. Провели предобработку:\n",
        "    - ознакомились с данными\n",
        "    - обнаружили дисбаланс классов в целевом признаке 'toxik', уменьшали его с RandomUnderSampler\n",
        "    - обработали тексты, оставили только символы латиницы и пробелы\n",
        "    - привели в нижний регистр\n",
        "    - провели лемматизация с помощью библиотеки spacy\n",
        "    - удалили стоп-слова\n",
        "    - вычислили tf_idf\n",
        "    - подготовили выборки для подбора моделей\n",
        "2. Подобрали модель для предсказания класса, LogisticRegression, метрика F1 на валидации:0.82, вывели ее на тест.\n",
        "3. Результаты на тесте F1: 0.77, что выполняет условие заказчика."
      ]
    }
  ],
  "metadata": {
    "colab": {
      "provenance": [],
      "toc_visible": true
    },
    "gpuClass": "standard",
    "kernelspec": {
      "display_name": "Python 3 (ipykernel)",
      "language": "python",
      "name": "python3"
    },
    "language_info": {
      "codemirror_mode": {
        "name": "ipython",
        "version": 3
      },
      "file_extension": ".py",
      "mimetype": "text/x-python",
      "name": "python",
      "nbconvert_exporter": "python",
      "pygments_lexer": "ipython3",
      "version": "3.9.5"
    },
    "toc": {
      "base_numbering": 1,
      "nav_menu": {},
      "number_sections": true,
      "sideBar": true,
      "skip_h1_title": true,
      "title_cell": "Table of Contents",
      "title_sidebar": "Contents",
      "toc_cell": false,
      "toc_position": {
        "height": "calc(100% - 180px)",
        "left": "10px",
        "top": "150px",
        "width": "165px"
      },
      "toc_section_display": true,
      "toc_window_display": true
    },
    "widgets": {
      "application/vnd.jupyter.widget-state+json": {
        "7a7fde3491a742489de67b3122d2f2de": {
          "model_module": "@jupyter-widgets/controls",
          "model_name": "HBoxModel",
          "model_module_version": "1.5.0",
          "state": {
            "_dom_classes": [],
            "_model_module": "@jupyter-widgets/controls",
            "_model_module_version": "1.5.0",
            "_model_name": "HBoxModel",
            "_view_count": null,
            "_view_module": "@jupyter-widgets/controls",
            "_view_module_version": "1.5.0",
            "_view_name": "HBoxView",
            "box_style": "",
            "children": [
              "IPY_MODEL_64521f3a941449caaff0ef749ec991bf",
              "IPY_MODEL_56a0390cf0964814af065e603ce770c6",
              "IPY_MODEL_1afde148646e44d185ebb11707bd7d07"
            ],
            "layout": "IPY_MODEL_a2d624994c6f4c54bc1c3377bf3bf4fd"
          }
        },
        "64521f3a941449caaff0ef749ec991bf": {
          "model_module": "@jupyter-widgets/controls",
          "model_name": "HTMLModel",
          "model_module_version": "1.5.0",
          "state": {
            "_dom_classes": [],
            "_model_module": "@jupyter-widgets/controls",
            "_model_module_version": "1.5.0",
            "_model_name": "HTMLModel",
            "_view_count": null,
            "_view_module": "@jupyter-widgets/controls",
            "_view_module_version": "1.5.0",
            "_view_name": "HTMLView",
            "description": "",
            "description_tooltip": null,
            "layout": "IPY_MODEL_53be8078ff6f4d02b489ee380d1ae935",
            "placeholder": "​",
            "style": "IPY_MODEL_9a77b221e48b419d913f8b11eec4bad5",
            "value": "100%"
          }
        },
        "56a0390cf0964814af065e603ce770c6": {
          "model_module": "@jupyter-widgets/controls",
          "model_name": "FloatProgressModel",
          "model_module_version": "1.5.0",
          "state": {
            "_dom_classes": [],
            "_model_module": "@jupyter-widgets/controls",
            "_model_module_version": "1.5.0",
            "_model_name": "FloatProgressModel",
            "_view_count": null,
            "_view_module": "@jupyter-widgets/controls",
            "_view_module_version": "1.5.0",
            "_view_name": "ProgressView",
            "bar_style": "success",
            "description": "",
            "description_tooltip": null,
            "layout": "IPY_MODEL_2ac959fa710b4213be903404290b0d53",
            "max": 159292,
            "min": 0,
            "orientation": "horizontal",
            "style": "IPY_MODEL_0891c9105d9e4dfb84ae5b4fc475385f",
            "value": 159292
          }
        },
        "1afde148646e44d185ebb11707bd7d07": {
          "model_module": "@jupyter-widgets/controls",
          "model_name": "HTMLModel",
          "model_module_version": "1.5.0",
          "state": {
            "_dom_classes": [],
            "_model_module": "@jupyter-widgets/controls",
            "_model_module_version": "1.5.0",
            "_model_name": "HTMLModel",
            "_view_count": null,
            "_view_module": "@jupyter-widgets/controls",
            "_view_module_version": "1.5.0",
            "_view_name": "HTMLView",
            "description": "",
            "description_tooltip": null,
            "layout": "IPY_MODEL_450e9cbf0a4a4b1dbb625880918864e8",
            "placeholder": "​",
            "style": "IPY_MODEL_0f17ab2ce2b24de68abe5d0e63da7c59",
            "value": " 159292/159292 [24:28&lt;00:00, 120.35it/s]"
          }
        },
        "a2d624994c6f4c54bc1c3377bf3bf4fd": {
          "model_module": "@jupyter-widgets/base",
          "model_name": "LayoutModel",
          "model_module_version": "1.2.0",
          "state": {
            "_model_module": "@jupyter-widgets/base",
            "_model_module_version": "1.2.0",
            "_model_name": "LayoutModel",
            "_view_count": null,
            "_view_module": "@jupyter-widgets/base",
            "_view_module_version": "1.2.0",
            "_view_name": "LayoutView",
            "align_content": null,
            "align_items": null,
            "align_self": null,
            "border": null,
            "bottom": null,
            "display": null,
            "flex": null,
            "flex_flow": null,
            "grid_area": null,
            "grid_auto_columns": null,
            "grid_auto_flow": null,
            "grid_auto_rows": null,
            "grid_column": null,
            "grid_gap": null,
            "grid_row": null,
            "grid_template_areas": null,
            "grid_template_columns": null,
            "grid_template_rows": null,
            "height": null,
            "justify_content": null,
            "justify_items": null,
            "left": null,
            "margin": null,
            "max_height": null,
            "max_width": null,
            "min_height": null,
            "min_width": null,
            "object_fit": null,
            "object_position": null,
            "order": null,
            "overflow": null,
            "overflow_x": null,
            "overflow_y": null,
            "padding": null,
            "right": null,
            "top": null,
            "visibility": null,
            "width": null
          }
        },
        "53be8078ff6f4d02b489ee380d1ae935": {
          "model_module": "@jupyter-widgets/base",
          "model_name": "LayoutModel",
          "model_module_version": "1.2.0",
          "state": {
            "_model_module": "@jupyter-widgets/base",
            "_model_module_version": "1.2.0",
            "_model_name": "LayoutModel",
            "_view_count": null,
            "_view_module": "@jupyter-widgets/base",
            "_view_module_version": "1.2.0",
            "_view_name": "LayoutView",
            "align_content": null,
            "align_items": null,
            "align_self": null,
            "border": null,
            "bottom": null,
            "display": null,
            "flex": null,
            "flex_flow": null,
            "grid_area": null,
            "grid_auto_columns": null,
            "grid_auto_flow": null,
            "grid_auto_rows": null,
            "grid_column": null,
            "grid_gap": null,
            "grid_row": null,
            "grid_template_areas": null,
            "grid_template_columns": null,
            "grid_template_rows": null,
            "height": null,
            "justify_content": null,
            "justify_items": null,
            "left": null,
            "margin": null,
            "max_height": null,
            "max_width": null,
            "min_height": null,
            "min_width": null,
            "object_fit": null,
            "object_position": null,
            "order": null,
            "overflow": null,
            "overflow_x": null,
            "overflow_y": null,
            "padding": null,
            "right": null,
            "top": null,
            "visibility": null,
            "width": null
          }
        },
        "9a77b221e48b419d913f8b11eec4bad5": {
          "model_module": "@jupyter-widgets/controls",
          "model_name": "DescriptionStyleModel",
          "model_module_version": "1.5.0",
          "state": {
            "_model_module": "@jupyter-widgets/controls",
            "_model_module_version": "1.5.0",
            "_model_name": "DescriptionStyleModel",
            "_view_count": null,
            "_view_module": "@jupyter-widgets/base",
            "_view_module_version": "1.2.0",
            "_view_name": "StyleView",
            "description_width": ""
          }
        },
        "2ac959fa710b4213be903404290b0d53": {
          "model_module": "@jupyter-widgets/base",
          "model_name": "LayoutModel",
          "model_module_version": "1.2.0",
          "state": {
            "_model_module": "@jupyter-widgets/base",
            "_model_module_version": "1.2.0",
            "_model_name": "LayoutModel",
            "_view_count": null,
            "_view_module": "@jupyter-widgets/base",
            "_view_module_version": "1.2.0",
            "_view_name": "LayoutView",
            "align_content": null,
            "align_items": null,
            "align_self": null,
            "border": null,
            "bottom": null,
            "display": null,
            "flex": null,
            "flex_flow": null,
            "grid_area": null,
            "grid_auto_columns": null,
            "grid_auto_flow": null,
            "grid_auto_rows": null,
            "grid_column": null,
            "grid_gap": null,
            "grid_row": null,
            "grid_template_areas": null,
            "grid_template_columns": null,
            "grid_template_rows": null,
            "height": null,
            "justify_content": null,
            "justify_items": null,
            "left": null,
            "margin": null,
            "max_height": null,
            "max_width": null,
            "min_height": null,
            "min_width": null,
            "object_fit": null,
            "object_position": null,
            "order": null,
            "overflow": null,
            "overflow_x": null,
            "overflow_y": null,
            "padding": null,
            "right": null,
            "top": null,
            "visibility": null,
            "width": null
          }
        },
        "0891c9105d9e4dfb84ae5b4fc475385f": {
          "model_module": "@jupyter-widgets/controls",
          "model_name": "ProgressStyleModel",
          "model_module_version": "1.5.0",
          "state": {
            "_model_module": "@jupyter-widgets/controls",
            "_model_module_version": "1.5.0",
            "_model_name": "ProgressStyleModel",
            "_view_count": null,
            "_view_module": "@jupyter-widgets/base",
            "_view_module_version": "1.2.0",
            "_view_name": "StyleView",
            "bar_color": null,
            "description_width": ""
          }
        },
        "450e9cbf0a4a4b1dbb625880918864e8": {
          "model_module": "@jupyter-widgets/base",
          "model_name": "LayoutModel",
          "model_module_version": "1.2.0",
          "state": {
            "_model_module": "@jupyter-widgets/base",
            "_model_module_version": "1.2.0",
            "_model_name": "LayoutModel",
            "_view_count": null,
            "_view_module": "@jupyter-widgets/base",
            "_view_module_version": "1.2.0",
            "_view_name": "LayoutView",
            "align_content": null,
            "align_items": null,
            "align_self": null,
            "border": null,
            "bottom": null,
            "display": null,
            "flex": null,
            "flex_flow": null,
            "grid_area": null,
            "grid_auto_columns": null,
            "grid_auto_flow": null,
            "grid_auto_rows": null,
            "grid_column": null,
            "grid_gap": null,
            "grid_row": null,
            "grid_template_areas": null,
            "grid_template_columns": null,
            "grid_template_rows": null,
            "height": null,
            "justify_content": null,
            "justify_items": null,
            "left": null,
            "margin": null,
            "max_height": null,
            "max_width": null,
            "min_height": null,
            "min_width": null,
            "object_fit": null,
            "object_position": null,
            "order": null,
            "overflow": null,
            "overflow_x": null,
            "overflow_y": null,
            "padding": null,
            "right": null,
            "top": null,
            "visibility": null,
            "width": null
          }
        },
        "0f17ab2ce2b24de68abe5d0e63da7c59": {
          "model_module": "@jupyter-widgets/controls",
          "model_name": "DescriptionStyleModel",
          "model_module_version": "1.5.0",
          "state": {
            "_model_module": "@jupyter-widgets/controls",
            "_model_module_version": "1.5.0",
            "_model_name": "DescriptionStyleModel",
            "_view_count": null,
            "_view_module": "@jupyter-widgets/base",
            "_view_module_version": "1.2.0",
            "_view_name": "StyleView",
            "description_width": ""
          }
        }
      }
    }
  },
  "nbformat": 4,
  "nbformat_minor": 0
}